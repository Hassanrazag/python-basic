{
  "nbformat": 4,
  "nbformat_minor": 0,
  "metadata": {
    "colab": {
      "provenance": [],
      "authorship_tag": "ABX9TyMnz3Zd0W+xJqRf5lLNaJip",
      "include_colab_link": true
    },
    "kernelspec": {
      "name": "python3",
      "display_name": "Python 3"
    },
    "language_info": {
      "name": "python"
    }
  },
  "cells": [
    {
      "cell_type": "markdown",
      "metadata": {
        "id": "view-in-github",
        "colab_type": "text"
      },
      "source": [
        "<a href=\"https://colab.research.google.com/github/Hassanrazag/python-basic/blob/main/Dictionary_and_sets.ipynb\" target=\"_parent\"><img src=\"https://colab.research.google.com/assets/colab-badge.svg\" alt=\"Open In Colab\"/></a>"
      ]
    },
    {
      "cell_type": "markdown",
      "source": [
        "# Dictionary & set"
      ],
      "metadata": {
        "id": "3M6gtu9aDZNa"
      }
    },
    {
      "cell_type": "code",
      "execution_count": null,
      "metadata": {
        "colab": {
          "base_uri": "https://localhost:8080/"
        },
        "id": "XZB2f5oXBKQ6",
        "outputId": "a9a7b723-7a35-49bc-c69a-0ad68e165147"
      },
      "outputs": [
        {
          "output_type": "stream",
          "name": "stdout",
          "text": [
            "{' name': 'Hassan', 'cpga': 9.6, 'marks': 98.4, 'age': 35, 'is_adult': True, 'Subject': ['python', 'java', 'C++'], 'topices': ('dictionary', 'set'), 23: 'hassan'}\n",
            "<class 'dict'>\n"
          ]
        }
      ],
      "source": [
        "# Dictionary are used to store data value in key:value pair.this , symbol is very important rule\n",
        "info ={\n",
        "   \" name\" : \"Hassan\",\n",
        "   \"cpga\"  : 9.6,\n",
        "   \"marks\" :[98,97,95],\n",
        "   \"age\" : 35,\n",
        "   \"is_adult\" : True,\n",
        "   \"marks\" : 98.4,\n",
        "   \"Subject\" : [\"python\",\"java\", \"C++\"],\n",
        "   \"topices\":(\"dictionary\",\"set\"),\n",
        "   23 : \"hassan\", # key can be (interder or float value)\n",
        "}\n",
        "\n",
        "print(info) # this clear all type of data in python.(Dictionary) and also used list[] and tupil() symbol.\n",
        "print(type(info))"
      ]
    },
    {
      "cell_type": "markdown",
      "source": [
        "# Given value of key can be change ?"
      ],
      "metadata": {
        "id": "_0wHG_gIL6lK"
      }
    },
    {
      "cell_type": "code",
      "source": [
        "info ={\n",
        "   \" name\" : \"Hassan\",\n",
        "   \"cpga\"  : 9.6,\n",
        "   \"marks\" :[98,97,95],\n",
        "   \"age\" : 35,\n",
        "   \"is_adult\" : True,\n",
        "   \"marks\" : 98.4\n",
        "}\n",
        "info[\"name\"] = \"muhammad saw\"\n",
        "print(info)"
      ],
      "metadata": {
        "colab": {
          "base_uri": "https://localhost:8080/"
        },
        "id": "svD_8tD7MI-_",
        "outputId": "22cdb19a-a26a-4d88-98a7-bf3e8c9579d0"
      },
      "execution_count": null,
      "outputs": [
        {
          "output_type": "stream",
          "name": "stdout",
          "text": [
            "{' name': 'Hassan', 'cpga': 9.6, 'marks': 98.4, 'age': 35, 'is_adult': True, 'name': 'muhammad saw'}\n"
          ]
        }
      ]
    },
    {
      "cell_type": "markdown",
      "source": [
        "# Null dictionary"
      ],
      "metadata": {
        "id": "X2K5QICLPCNb"
      }
    },
    {
      "cell_type": "code",
      "source": [
        "from ast import NodeVisitor\n",
        "dict ={\n",
        "   \" name\" : \"Hassan\",\n",
        "   \"cpga\"  : 9.6,\n",
        "   \"marks\" :[98,97,95],\n",
        "   \"age\" : 35,\n",
        "}\n",
        "null_dict ={ }\n",
        "null_dict[\"name\"] = \"Noor\"# this formula used to add value.\n",
        "print(null_dict)\n",
        "print(type(null_dict))\n"
      ],
      "metadata": {
        "colab": {
          "base_uri": "https://localhost:8080/"
        },
        "id": "eUTiAA-fOS3w",
        "outputId": "5658c0fb-733d-474a-c97f-7b48d94b6fa0"
      },
      "execution_count": null,
      "outputs": [
        {
          "output_type": "stream",
          "name": "stdout",
          "text": [
            "{'name': 'Noor'}\n",
            "<class 'dict'>\n"
          ]
        }
      ]
    },
    {
      "cell_type": "markdown",
      "source": [
        "# Nested dictionary"
      ],
      "metadata": {
        "id": "nfJ5RO2JRK-v"
      }
    },
    {
      "cell_type": "code",
      "source": [
        "Student = {\n",
        "    \"name\" : \"Muhammad saw\",\n",
        "    \"subjects\" : {\n",
        "        \"pyh\" :84,\n",
        "        \"chem\" :77,\n",
        "        \"math\" :90 ,\n",
        "    }\n",
        "\n",
        "\n",
        "}\n",
        "\n",
        "print(Student)\n",
        "print(Student[\"subjects\"])\n",
        "print(Student[\"subjects\"][\"pyh\"])\n",
        "\n",
        "\n"
      ],
      "metadata": {
        "colab": {
          "base_uri": "https://localhost:8080/"
        },
        "id": "dawkwH-MRPbK",
        "outputId": "89a2de6f-7210-4aae-ca16-034479c2ad4a"
      },
      "execution_count": null,
      "outputs": [
        {
          "output_type": "stream",
          "name": "stdout",
          "text": [
            "{'name': 'Muhammad saw', 'subjects': {'pyh': 84, 'chem': 77, 'math': 90}}\n",
            "{'pyh': 84, 'chem': 77, 'math': 90}\n",
            "84\n"
          ]
        }
      ]
    },
    {
      "cell_type": "markdown",
      "source": [
        "# Dictionary Methods"
      ],
      "metadata": {
        "id": "C-eLcc_IXT6e"
      }
    },
    {
      "cell_type": "markdown",
      "source": [
        "Type of dictionary method"
      ],
      "metadata": {
        "id": "cYJXJlEnXpr_"
      }
    },
    {
      "cell_type": "code",
      "source": [
        "# my Dict. keys()  returns all key\n",
        "# my Dict. Values() returns all value\n",
        "# my Dict. items()  returns all (key, pairs as tuples)\n",
        "# my get. (\"key\") returns all key  according to value\n",
        "# my Dict.update(new Dict)\n",
        "Student = {\n",
        "    \"name\" : \"Muhammad saw\",\n",
        "    \"subjects\" : {\n",
        "        \"pyh\" :84,\n",
        "        \"chem\" :77,\n",
        "       \"math\" :90 ,\n",
        "    }\n",
        "}\n",
        "\n",
        "print(Student .keys())\n",
        "print(Student .values())\n",
        "# if we see the nested key so used\n",
        "print(list(Student .keys()))\n",
        "# if we find length so used.\n",
        "print(len(Student .keys()))"
      ],
      "metadata": {
        "colab": {
          "base_uri": "https://localhost:8080/"
        },
        "id": "zC1FV82nXkqK",
        "outputId": "5176de74-ab54-400e-e150-9046cf0b4390"
      },
      "execution_count": null,
      "outputs": [
        {
          "output_type": "stream",
          "name": "stdout",
          "text": [
            "dict_keys(['name', 'subjects'])\n",
            "dict_values(['Muhammad saw', {'pyh': 84, 'chem': 77, 'math': 90}])\n",
            "['name', 'subjects']\n",
            "2\n"
          ]
        }
      ]
    },
    {
      "cell_type": "code",
      "source": [
        "Student = {\n",
        "    \"name\" : \"Muhammad saw\",\n",
        "    \"subjects\" : {\n",
        "        \"urdu\" :84,\n",
        "        \"PS\" :65,\n",
        "       \"english\" :90 ,\n",
        "    }\n",
        "}\n",
        "\n",
        "print(Student.items()) # items show all key and value.\n",
        "pairs=list(Student.items())\n",
        "print(pairs[0])# this show parise of value"
      ],
      "metadata": {
        "colab": {
          "base_uri": "https://localhost:8080/"
        },
        "id": "m4s6IB0RiKwe",
        "outputId": "51c1bc48-2ec7-487e-978a-e42db85de4cd"
      },
      "execution_count": null,
      "outputs": [
        {
          "output_type": "stream",
          "name": "stdout",
          "text": [
            "dict_items([('name', 'Muhammad saw'), ('subjects', {'urdu': 84, 'PS': 65, 'english': 90})])\n",
            "('name', 'Muhammad saw')\n"
          ]
        }
      ]
    },
    {
      "cell_type": "markdown",
      "source": [
        "## My Dict.update(new Dict)"
      ],
      "metadata": {
        "id": "n8nBIHwwnGZs"
      }
    },
    {
      "cell_type": "markdown",
      "source": [
        "## mean can be create new dictinory. used Dict.update"
      ],
      "metadata": {
        "id": "1pW6X1lvnTnS"
      }
    },
    {
      "cell_type": "code",
      "source": [
        "Student = {\n",
        "    \"name\" : \"Muhammad saw\",\n",
        "    \"subjects\" : {\n",
        "        \"urdu\" :84,\n",
        "        \"PS\" :65,\n",
        "       \"english\" :90 ,\n",
        "    }\n",
        "}\n",
        "Student.update({\"city\" : \"Faisalabad\"})\n",
        "print(Student)"
      ],
      "metadata": {
        "colab": {
          "base_uri": "https://localhost:8080/"
        },
        "id": "yjJE70SPnm3Q",
        "outputId": "c947c6e8-ede9-498e-be8e-e6c1106ef7ca"
      },
      "execution_count": null,
      "outputs": [
        {
          "output_type": "stream",
          "name": "stdout",
          "text": [
            "{'name': 'Muhammad saw', 'subjects': {'urdu': 84, 'PS': 65, 'english': 90}, 'city': 'Faisalabad'}\n"
          ]
        }
      ]
    },
    {
      "cell_type": "markdown",
      "source": [
        "# set is collection of the unordered items.Example\n",
        "\n",
        "\n",
        "\n"
      ],
      "metadata": {
        "id": "6xyqQiHhrmpy"
      }
    },
    {
      "cell_type": "code",
      "source": [
        "collection = {1,2,3,4, \"hassan\", \"hellow\"}\n",
        "print(collection)\n",
        "print(len(collection))\n",
        "print(type(collection))\n",
        "\n",
        "\n",
        "collection = {1,2,2,4, \"hassan\",\"hassan\"} # in set doublecation of value is ignore\n",
        "print(collection)\n",
        "print(len(collection))# total number of items . dublicate value is emter i length\n"
      ],
      "metadata": {
        "colab": {
          "base_uri": "https://localhost:8080/"
        },
        "id": "LXUDLotSrmWT",
        "outputId": "00859d78-04f6-4733-d9ca-953583c75616"
      },
      "execution_count": null,
      "outputs": [
        {
          "output_type": "stream",
          "name": "stdout",
          "text": [
            "{1, 2, 3, 4, 'hassan', 'hellow'}\n",
            "6\n",
            "<class 'set'>\n",
            "{1, 2, 'hassan', 4}\n",
            "4\n"
          ]
        }
      ]
    },
    {
      "cell_type": "markdown",
      "source": [
        "# Empty set program in dictionary"
      ],
      "metadata": {
        "id": "e-bIq-MnH7o1"
      }
    },
    {
      "cell_type": "code",
      "source": [
        "collection = {}\n",
        "print(collection) # this only empty dictinonary\n",
        "\n",
        "\n",
        "collection = set()  #if used set in value then create empty set.\n",
        "print(type(collection))\n"
      ],
      "metadata": {
        "colab": {
          "base_uri": "https://localhost:8080/"
        },
        "id": "qWb0obg2H6Gi",
        "outputId": "ae049375-9e62-418e-93a6-6f3ef159557f"
      },
      "execution_count": null,
      "outputs": [
        {
          "output_type": "stream",
          "name": "stdout",
          "text": [
            "{}\n",
            "<class 'set'>\n"
          ]
        }
      ]
    },
    {
      "cell_type": "markdown",
      "source": [
        "#Commen used Set of Method"
      ],
      "metadata": {
        "id": "w4J_jKQ4JvqS"
      }
    },
    {
      "cell_type": "code",
      "source": [
        "# set.add(el) add an element\n",
        "# set.remove(el) remove the elemen an\n",
        "# set.clear() emties the set\n",
        "# set.pop() remove a random value\n",
        "# Very important Note.\n",
        "# set is mutable but set of element is immutable\n",
        "\n",
        "collection = set() # set consider only single value\n",
        "collection.add(1)\n",
        "collection.add(2)\n",
        "collection.add((1,2,3))# this is tuple.\n",
        "#collection.add([1,2,3]) # this is list and not run beacuse list with time change and new element add and remove\n",
        "collection.add(\"friend college\")\n",
        "collection.remove(1)\n",
        "print(collection)\n",
        "print(len(collection))\n"
      ],
      "metadata": {
        "colab": {
          "base_uri": "https://localhost:8080/"
        },
        "id": "xP-wSO1iLBhS",
        "outputId": "cd41666f-e396-4543-a456-880ff2a54f34"
      },
      "execution_count": null,
      "outputs": [
        {
          "output_type": "stream",
          "name": "stdout",
          "text": [
            "{2, (1, 2, 3), 'friend college'}\n",
            "3\n"
          ]
        }
      ]
    },
    {
      "cell_type": "code",
      "source": [
        "collection = set() # set consider only single value\n",
        "collection.add(1)\n",
        "collection.add(9)\n",
        "collection.add((1,2,3))\n",
        "collection .clear()  # this clear all vakue is zero...\n",
        "print(len(collection))"
      ],
      "metadata": {
        "colab": {
          "base_uri": "https://localhost:8080/"
        },
        "id": "muvXnkdeQYUG",
        "outputId": "4a3585fa-7c1b-4b19-db00-a381a95b89a8"
      },
      "execution_count": null,
      "outputs": [
        {
          "output_type": "stream",
          "name": "stdout",
          "text": [
            "0\n"
          ]
        }
      ]
    },
    {
      "cell_type": "code",
      "source": [
        "# set.pop() thin mothed randome value( koi be value)\n",
        "collection = {\"hello\",\"apnacollege, world\", \"hassan\", \"python\"}\n",
        "\n",
        "print(collection.pop())\n",
        "print(collection.pop())\n"
      ],
      "metadata": {
        "colab": {
          "base_uri": "https://localhost:8080/"
        },
        "id": "CU0TH9r7RcZY",
        "outputId": "45b9501c-9492-4b26-acd9-a4638be991f1"
      },
      "execution_count": null,
      "outputs": [
        {
          "output_type": "stream",
          "name": "stdout",
          "text": [
            "hello\n",
            "apnacollege, world\n"
          ]
        }
      ]
    },
    {
      "cell_type": "markdown",
      "source": [
        "# Important  two set of method"
      ],
      "metadata": {
        "id": "J8cqugUqS1A9"
      }
    },
    {
      "cell_type": "markdown",
      "source": [
        "#1.set.union(set2) combines both set value & returns. same Class 8,9 math union and intersection."
      ],
      "metadata": {
        "id": "_-a1YonsUsKU"
      }
    },
    {
      "cell_type": "code",
      "source": [
        "set1 = {1,2,3}\n",
        "set2  = {2,3,4}\n",
        "print(set1.union(set2))\n",
        "print(set1)"
      ],
      "metadata": {
        "colab": {
          "base_uri": "https://localhost:8080/"
        },
        "id": "2YR8srwZS_YG",
        "outputId": "32324228-1bc3-41f8-8cd8-b0882fca8527"
      },
      "execution_count": null,
      "outputs": [
        {
          "output_type": "stream",
          "name": "stdout",
          "text": [
            "{1, 2, 3, 4}\n",
            "{1, 2, 3}\n"
          ]
        }
      ]
    },
    {
      "cell_type": "markdown",
      "source": [
        "# Exam 2.set. intersection(set) combines common  value & returns new."
      ],
      "metadata": {
        "id": "rMG43NQDUkqo"
      }
    },
    {
      "cell_type": "code",
      "source": [
        "set1 = {1,2,3}\n",
        "set2  = {2,3,4}\n",
        "print(set1.intersection(set2))"
      ],
      "metadata": {
        "colab": {
          "base_uri": "https://localhost:8080/"
        },
        "id": "rmdpZn3wU-Xw",
        "outputId": "7e43aa59-d64c-4043-df71-51a06553be16"
      },
      "execution_count": null,
      "outputs": [
        {
          "output_type": "stream",
          "name": "stdout",
          "text": [
            "{2, 3}\n"
          ]
        }
      ]
    },
    {
      "cell_type": "markdown",
      "source": [
        "#   Now  practice"
      ],
      "metadata": {
        "id": "OXwSubz1VqcI"
      }
    },
    {
      "cell_type": "code",
      "source": [
        "dictionary = {\n",
        "    \"cat\" : \"a small animal\",\n",
        "    \"table\" : [ \"a pice of furniture, list of facts &figures\"]\n",
        "\n",
        "}\n",
        "print(dictionary)"
      ],
      "metadata": {
        "colab": {
          "base_uri": "https://localhost:8080/"
        },
        "id": "ejcE23ruWgBD",
        "outputId": "608b7391-8281-4f51-882b-434a0b06110d"
      },
      "execution_count": null,
      "outputs": [
        {
          "output_type": "stream",
          "name": "stdout",
          "text": [
            "{'cat': 'a small animal', 'table': ['a pice of furniture, list of facts &figures']}\n"
          ]
        }
      ]
    },
    {
      "cell_type": "markdown",
      "source": [
        "Q You are list of subjects for students. assume one classroom is required for 1 subject. How many classrooms are needed by all students by all students\n",
        "\"python\", \"java\" \"c++\",\"python\",\"javascript\"\n",
        "\"java\", \"pyton\", \"java\",\"c++\" \"c\""
      ],
      "metadata": {
        "id": "K2r6T1IQY71O"
      }
    },
    {
      "cell_type": "code",
      "source": [
        "subjects = {\n",
        "    \"python\", \"java\", \"c++\",\"python\",\"javascript\",\"java\", \"pyton\", \"java\",\"c++\" ,\"c\"\n",
        "\n",
        "}\n",
        "print(subjects)\n",
        "print(len(subjects)) # this can find length\n"
      ],
      "metadata": {
        "colab": {
          "base_uri": "https://localhost:8080/"
        },
        "id": "1N7DyoVwaOqg",
        "outputId": "930d8b09-3d0e-480d-fc60-a3aad9ab4062"
      },
      "execution_count": 2,
      "outputs": [
        {
          "output_type": "stream",
          "name": "stdout",
          "text": [
            "{'javascript', 'java', 'pyton', 'c', 'python', 'c++'}\n",
            "6\n"
          ]
        }
      ]
    },
    {
      "cell_type": "markdown",
      "source": [
        "WAP to enter marks of 3 subjects from the user and store them in a dictionary. Start with an empty dictionary & add one by one. Use subject name as key & marks as value"
      ],
      "metadata": {
        "id": "oHSd6RV8RHpD"
      }
    },
    {
      "cell_type": "code",
      "source": [
        "marks = {}\n",
        "\n",
        "x = int(input(\"Enter phy : \"))\n",
        "marks.update({\"phy\": x})\n",
        "x = int(input(\"Enter math : \"))\n",
        "marks.update({\"math\": x})\n",
        "x = int(input(\"Enter english : \"))\n",
        "marks.update({\"english\": x})\n",
        "\n",
        "print(marks)"
      ],
      "metadata": {
        "colab": {
          "base_uri": "https://localhost:8080/"
        },
        "id": "GTRHBV4RSDUp",
        "outputId": "4830f947-94b6-4734-926e-9388de17fe4a"
      },
      "execution_count": 4,
      "outputs": [
        {
          "output_type": "stream",
          "name": "stdout",
          "text": [
            "Enter phy : 88\n",
            "Enter math : 90\n",
            "Enter english : 89\n",
            "{'phy': 88, 'math': 90, 'english': 89}\n"
          ]
        }
      ]
    },
    {
      "cell_type": "markdown",
      "source": [
        "Figure a way to store 9 & 9.0 as separate value in the set."
      ],
      "metadata": {
        "id": "wSZAE7zJWGdE"
      }
    },
    {
      "cell_type": "code",
      "source": [
        "values1 = {9,9.0}\n",
        "values2= {9, \"9.0\"}\n",
        "values3= {9,9.0}\n",
        "print(values1)\n",
        "print(values2)\n",
        "print(values3)\n"
      ],
      "metadata": {
        "colab": {
          "base_uri": "https://localhost:8080/"
        },
        "id": "BcFj7AJ4WdER",
        "outputId": "530fc290-be09-4cca-8c1f-f5350218934f"
      },
      "execution_count": 14,
      "outputs": [
        {
          "output_type": "stream",
          "name": "stdout",
          "text": [
            "{9}\n",
            "{9, '9.0'}\n",
            "{9}\n"
          ]
        }
      ]
    },
    {
      "cell_type": "code",
      "source": [
        "values = {\n",
        "    (\"float\", 9.0),\n",
        "    (\"int\",9)\n",
        "}\n",
        "print(values)"
      ],
      "metadata": {
        "colab": {
          "base_uri": "https://localhost:8080/"
        },
        "id": "HBzTf02pXZIy",
        "outputId": "a6606dfb-9500-409d-e314-758d4678cc16"
      },
      "execution_count": 16,
      "outputs": [
        {
          "output_type": "stream",
          "name": "stdout",
          "text": [
            "{('float', 9.0), ('int', 9)}\n"
          ]
        }
      ]
    }
  ]
}