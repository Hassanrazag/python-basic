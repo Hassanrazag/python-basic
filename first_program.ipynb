{
  "nbformat": 4,
  "nbformat_minor": 0,
  "metadata": {
    "colab": {
      "provenance": [],
      "authorship_tag": "ABX9TyPlf8omkv89s0LH7xPKY6Z6",
      "include_colab_link": true
    },
    "kernelspec": {
      "name": "python3",
      "display_name": "Python 3"
    },
    "language_info": {
      "name": "python"
    }
  },
  "cells": [
    {
      "cell_type": "markdown",
      "metadata": {
        "id": "view-in-github",
        "colab_type": "text"
      },
      "source": [
        "<a href=\"https://colab.research.google.com/github/Hassanrazag/python-basic/blob/main/first_program.ipynb\" target=\"_parent\"><img src=\"https://colab.research.google.com/assets/colab-badge.svg\" alt=\"Open In Colab\"/></a>"
      ]
    },
    {
      "cell_type": "markdown",
      "source": [
        "# Python for Ai"
      ],
      "metadata": {
        "id": "hWxkvNT-Zna8"
      }
    },
    {
      "cell_type": "markdown",
      "source": [
        "## 1. Variables"
      ],
      "metadata": {
        "id": "nbwj7BYffz8m"
      }
    },
    {
      "cell_type": "code",
      "execution_count": null,
      "metadata": {
        "colab": {
          "base_uri": "https://localhost:8080/"
        },
        "id": "4MVPplxbXK3p",
        "outputId": "e39d80f7-5f63-4cd8-bc55-94b6a82ac26b"
      },
      "outputs": [
        {
          "output_type": "stream",
          "name": "stdout",
          "text": [
            "My name is Hassan\n",
            "My age is  21\n",
            "12.0\n"
          ]
        }
      ],
      "source": [
        "name= \"Hassan\"\n",
        "age= 21\n",
        "price= 12.00\n",
        "print(\"My name is\",name) # if you print the value of variable . you write name without (\"\")this symbal.\n",
        "print(\"My age is \",age)\n",
        "print(price)"
      ]
    },
    {
      "cell_type": "code",
      "source": [
        "age_2=age # if used first variable the pergram is not execute exa.1age\n",
        "print(age_2)"
      ],
      "metadata": {
        "colab": {
          "base_uri": "https://localhost:8080/"
        },
        "id": "AXAxMl25iJYI",
        "outputId": "77fbaf72-22da-4a76-e464-69e2549c34e1"
      },
      "execution_count": null,
      "outputs": [
        {
          "output_type": "stream",
          "name": "stdout",
          "text": [
            "21\n"
          ]
        }
      ]
    },
    {
      "cell_type": "code",
      "source": [
        "name= \"hassan\" # string type.\n",
        "age= 21        # integer type.\n",
        "old=True       # Boolian type .\n",
        "a= None        # None type mean a is not equal to given data.\n",
        "price= 236.43  # float type.\n",
        "print(type(name))# if used type in print function. then find what type of data.\n",
        "print(type(age))\n",
        "print(type(price))\n",
        "print(type(old))\n",
        "print(type(a))\n"
      ],
      "metadata": {
        "colab": {
          "base_uri": "https://localhost:8080/"
        },
        "id": "6ZucJ7nb-fUJ",
        "outputId": "6270c1db-9230-404f-e50f-b2e64b19d4da"
      },
      "execution_count": null,
      "outputs": [
        {
          "output_type": "stream",
          "name": "stdout",
          "text": [
            "<class 'str'>\n",
            "<class 'int'>\n",
            "<class 'float'>\n",
            "<class 'bool'>\n",
            "<class 'NoneType'>\n"
          ]
        }
      ]
    },
    {
      "cell_type": "code",
      "source": [
        "# strint can be write in singal,dabual and taripal form.like\n",
        "name1='ali'\n",
        "name2=\"ali\"\n",
        "name3='''ali'''\n",
        "print(name1)\n",
        "print(name2)\n",
        "print(name3)"
      ],
      "metadata": {
        "colab": {
          "base_uri": "https://localhost:8080/"
        },
        "id": "GLH8Ks6vBaCU",
        "outputId": "0f9c1417-c3c9-48ce-cbe2-37d8a6c83499"
      },
      "execution_count": null,
      "outputs": [
        {
          "output_type": "stream",
          "name": "stdout",
          "text": [
            "ali\n",
            "ali\n",
            "ali\n"
          ]
        }
      ]
    },
    {
      "cell_type": "markdown",
      "source": [
        "# Write two number and the sum?"
      ],
      "metadata": {
        "id": "x5y6o8nCGvyv"
      }
    },
    {
      "cell_type": "code",
      "source": [
        "a= 2034\n",
        "b= 34\n",
        "sum= a + b\n",
        "print(sum)"
      ],
      "metadata": {
        "colab": {
          "base_uri": "https://localhost:8080/"
        },
        "id": "RfJDDiU3DdbL",
        "outputId": "74c57c94-d7a2-483d-f3fb-d33a8c4140fc"
      },
      "execution_count": null,
      "outputs": [
        {
          "output_type": "stream",
          "name": "stdout",
          "text": [
            "2068\n"
          ]
        }
      ]
    },
    {
      "cell_type": "code",
      "source": [
        "a= 456\n",
        "b= 356\n",
        "diff= a - b\n",
        "print(diff)"
      ],
      "metadata": {
        "colab": {
          "base_uri": "https://localhost:8080/"
        },
        "id": "Ri1pBL4PHuPr",
        "outputId": "28a57816-0809-44d7-e621-f5f850f8e4fa"
      },
      "execution_count": null,
      "outputs": [
        {
          "output_type": "stream",
          "name": "stdout",
          "text": [
            "100\n"
          ]
        }
      ]
    },
    {
      "cell_type": "code",
      "source": [],
      "metadata": {
        "id": "Oflk57YZIxsh"
      },
      "execution_count": null,
      "outputs": []
    },
    {
      "cell_type": "markdown",
      "source": [
        "# Comments information.\n"
      ],
      "metadata": {
        "id": "MqKUT69LIyYC"
      }
    },
    {
      "cell_type": "code",
      "source": [
        "# comment can be write use of(#,''' ''',/* */.Multimals line kaliya //* *//."
      ],
      "metadata": {
        "id": "bNr_yee5I9R4"
      },
      "execution_count": null,
      "outputs": []
    },
    {
      "cell_type": "markdown",
      "source": [
        "Type of operators"
      ],
      "metadata": {
        "id": "XuFiw4iLJ175"
      }
    },
    {
      "cell_type": "markdown",
      "source": [
        "# 1.Arithematic operators(+,-,/,%,*,** ,dabal * shown the square)\n"
      ],
      "metadata": {
        "id": "nqXN1irGMIrP"
      }
    },
    {
      "cell_type": "code",
      "source": [
        "a=10\n",
        "b=5\n",
        "print( a + b)\n",
        "print( a - b)\n",
        "print( a / b)\n",
        "print( a * b)\n",
        "print( a ** b)# a^b\n",
        "print( a % b)#remainder"
      ],
      "metadata": {
        "colab": {
          "base_uri": "https://localhost:8080/"
        },
        "id": "ZU41AFJDNINQ",
        "outputId": "2caabf27-7ab8-43e2-b1a6-914e583123e2"
      },
      "execution_count": null,
      "outputs": [
        {
          "output_type": "stream",
          "name": "stdout",
          "text": [
            "15\n",
            "5\n",
            "2.0\n",
            "50\n",
            "100000\n",
            "0\n"
          ]
        }
      ]
    },
    {
      "cell_type": "markdown",
      "source": [
        "# 2.Relational/ comparison operators( ==,!=,>,<,>=,<=)\n"
      ],
      "metadata": {
        "id": "EX8qEaARNJcP"
      }
    },
    {
      "cell_type": "code",
      "source": [
        "a = 50\n",
        "b = 20\n",
        "print(a == b)# relation operators alawys result in ture and false form\n",
        "print(a != b)\n",
        "print(a >= b)\n",
        "print(a <= b)\n",
        "print(a < b)\n",
        "print(a > b)"
      ],
      "metadata": {
        "colab": {
          "base_uri": "https://localhost:8080/"
        },
        "id": "mK0pSY_jPMwz",
        "outputId": "10fb34eb-7874-4311-a6cd-4a440054b16f"
      },
      "execution_count": null,
      "outputs": [
        {
          "output_type": "stream",
          "name": "stdout",
          "text": [
            "False\n",
            "True\n",
            "True\n",
            "False\n",
            "False\n",
            "True\n"
          ]
        }
      ]
    },
    {
      "cell_type": "markdown",
      "source": [
        "# 3.Assignment operators( =,+=, *=, %=,**=)\n"
      ],
      "metadata": {
        "id": "dInUr7vXRs4k"
      }
    },
    {
      "cell_type": "code",
      "source": [
        "# (=) symbal is called Assignement.\n",
        "num = 10\n",
        "num = num + 10\n",
        "print(num)\n",
        "\n"
      ],
      "metadata": {
        "colab": {
          "base_uri": "https://localhost:8080/"
        },
        "id": "3_wfP6hLPI6A",
        "outputId": "29c2d2b8-a6f1-4acd-b654-67acb50fd977"
      },
      "execution_count": null,
      "outputs": [
        {
          "output_type": "stream",
          "name": "stdout",
          "text": [
            "20\n"
          ]
        }
      ]
    },
    {
      "cell_type": "code",
      "source": [
        "num = 10\n",
        "num +=10\n",
        "print(num)"
      ],
      "metadata": {
        "colab": {
          "base_uri": "https://localhost:8080/"
        },
        "id": "9hbLHcjNflOg",
        "outputId": "e48e07cb-57c9-4e3b-983b-b7023b2c6ee9"
      },
      "execution_count": null,
      "outputs": [
        {
          "output_type": "stream",
          "name": "stdout",
          "text": [
            "20\n"
          ]
        }
      ]
    },
    {
      "cell_type": "code",
      "source": [
        "num = 10\n",
        "num *=10\n",
        "print(num)"
      ],
      "metadata": {
        "colab": {
          "base_uri": "https://localhost:8080/"
        },
        "id": "wDp1jjyefsm-",
        "outputId": "76279129-9ce2-49ed-f820-323641b522b5"
      },
      "execution_count": null,
      "outputs": [
        {
          "output_type": "stream",
          "name": "stdout",
          "text": [
            "100\n"
          ]
        }
      ]
    },
    {
      "cell_type": "markdown",
      "source": [
        "# 4. Logical operators(NOT,AND, OR)"
      ],
      "metadata": {
        "id": "zv_LuZ8PRt4n"
      }
    },
    {
      "cell_type": "code",
      "source": [
        "# Not operator is alawsy contain one value and if condition is true the anser is false\n",
        "#Example.\n",
        "print(not False)\n",
        "print(not True)"
      ],
      "metadata": {
        "id": "qfliEUjSh1pz",
        "colab": {
          "base_uri": "https://localhost:8080/"
        },
        "outputId": "0e7a1240-dfeb-4670-cb9f-109d8be39fb2"
      },
      "execution_count": null,
      "outputs": [
        {
          "output_type": "stream",
          "name": "stdout",
          "text": [
            "True\n",
            "False\n"
          ]
        }
      ]
    },
    {
      "cell_type": "code",
      "source": [
        "a=50\n",
        "b=30\n",
        "print(not False)\n",
        "print(not (a >b))"
      ],
      "metadata": {
        "colab": {
          "base_uri": "https://localhost:8080/"
        },
        "id": "89XejpgRzfix",
        "outputId": "30dc1747-fdde-458d-80e7-3aacc57a7fda"
      },
      "execution_count": null,
      "outputs": [
        {
          "output_type": "stream",
          "name": "stdout",
          "text": [
            "True\n",
            "False\n"
          ]
        }
      ]
    },
    {
      "cell_type": "code",
      "source": [
        "#  AND operators is contain two value. when both value true then anser be true,if false both then anser true and one true or one false anser is false.\n",
        "# true T alawy write in uparcase.\n",
        "#Exampal\n",
        "var1=True\n",
        "var2=True\n",
        "print(\" AND operator:\",var1 and var2)"
      ],
      "metadata": {
        "colab": {
          "base_uri": "https://localhost:8080/"
        },
        "id": "9_gz1AHOzIey",
        "outputId": "8d6ec4a6-1cae-45bb-b1fb-ceff8269a5a6"
      },
      "execution_count": null,
      "outputs": [
        {
          "output_type": "stream",
          "name": "stdout",
          "text": [
            " AND operator: True\n"
          ]
        }
      ]
    },
    {
      "cell_type": "code",
      "source": [
        "#or operators contain two value if one value be true the anser be true.if one false and one true then anser true.\n",
        "a=50\n",
        "b=30\n",
        "c=45\n",
        "d=30\n",
        "print( c > d or c > d)\n",
        "print( a > b or a<b)\n",
        "print(\"OR operator:\", a==b or (a<b))\n",
        "\n",
        "\n"
      ],
      "metadata": {
        "colab": {
          "base_uri": "https://localhost:8080/"
        },
        "id": "mYbJLSo518Um",
        "outputId": "b9d2dafb-e95b-4f79-b2d1-bcab886f2211"
      },
      "execution_count": null,
      "outputs": [
        {
          "output_type": "stream",
          "name": "stdout",
          "text": [
            "True\n",
            "True\n",
            "OR operator: False\n"
          ]
        }
      ]
    },
    {
      "cell_type": "markdown",
      "source": [
        "# Type Conversion\n",
        "\n"
      ],
      "metadata": {
        "id": "_A2al-386kLt"
      }
    },
    {
      "cell_type": "code",
      "source": [
        "\n",
        "# conversion means convert int into float. i cannot convert string into falot value\n",
        "# two type of conversion\n",
        "#1 automatic ocnversion: mean data convert in float easy way\n",
        "#Exam:\n",
        "a=2\n",
        "b=4.45\n",
        "sum= a + b# easy way\n",
        "print(sum)"
      ],
      "metadata": {
        "colab": {
          "base_uri": "https://localhost:8080/"
        },
        "id": "3VMaNsXi6d-r",
        "outputId": "3e01b024-a4f2-43c3-ecba-1a2ecc26bcb0"
      },
      "execution_count": null,
      "outputs": [
        {
          "output_type": "stream",
          "name": "stdout",
          "text": [
            "6.45\n"
          ]
        }
      ]
    },
    {
      "cell_type": "code",
      "source": [
        "# second type is type casting\n",
        "#in this type zabardasti integer convert into string using key words.\n",
        "# connot name of thing convert in int,float.\n",
        "a= int(\"2\")# if int is not used error in program\n",
        "b=4.25\n",
        "sum= a + b# easy way\n",
        "print(sum)"
      ],
      "metadata": {
        "colab": {
          "base_uri": "https://localhost:8080/"
        },
        "id": "-KKJtyCw8v5o",
        "outputId": "62a2a5ce-4f6f-4334-8253-7a5c168fb96d"
      },
      "execution_count": null,
      "outputs": [
        {
          "output_type": "stream",
          "name": "stdout",
          "text": [
            "6.25\n"
          ]
        }
      ]
    },
    {
      "cell_type": "code",
      "source": [
        "a= 3.14\n",
        "a=str(a)\n",
        "print(type(a))\n",
        "print(a)"
      ],
      "metadata": {
        "colab": {
          "base_uri": "https://localhost:8080/"
        },
        "id": "m2La6gJ7-5RC",
        "outputId": "4c12c35c-0599-44f0-e9de-31efd42b0735"
      },
      "execution_count": null,
      "outputs": [
        {
          "output_type": "stream",
          "name": "stdout",
          "text": [
            "<class 'str'>\n",
            "3.14\n"
          ]
        }
      ]
    },
    {
      "cell_type": "code",
      "source": [
        "a=(int(input(\"Enter first number\")))\n",
        "b=(int(input(\"Enter second number\")))\n",
        "sum = a + b\n",
        "print(type(sum))\n",
        "print(sum)\n"
      ],
      "metadata": {
        "colab": {
          "base_uri": "https://localhost:8080/"
        },
        "id": "4ntEZhlgC9Hd",
        "outputId": "1b03d69c-6b08-46a9-b576-d316c611a791"
      },
      "execution_count": null,
      "outputs": [
        {
          "output_type": "stream",
          "name": "stdout",
          "text": [
            "Enter first number3\n",
            "Enter second number3\n",
            "<class 'int'>\n",
            "6\n"
          ]
        }
      ]
    },
    {
      "cell_type": "markdown",
      "source": [
        "# Write a program to input side of a square and print its area?"
      ],
      "metadata": {
        "id": "COgTGelfHwPy"
      }
    },
    {
      "cell_type": "code",
      "source": [
        "side=int(input(\"Enter a square side\"))\n",
        "print(\"area =\",side * side)\n"
      ],
      "metadata": {
        "colab": {
          "base_uri": "https://localhost:8080/"
        },
        "id": "YvnpVA2THvb2",
        "outputId": "8d88c44c-4b98-41c5-e790-117e6c8cc458"
      },
      "execution_count": null,
      "outputs": [
        {
          "output_type": "stream",
          "name": "stdout",
          "text": [
            "Enter a square side34\n",
            "area = 1156\n"
          ]
        }
      ]
    },
    {
      "cell_type": "code",
      "source": [
        "a=int(input(\"Enter a number\"))\n",
        "b=int(input(\"Enter a number\"))\n",
        "print(a>= b)"
      ],
      "metadata": {
        "colab": {
          "base_uri": "https://localhost:8080/"
        },
        "id": "qo11p4_DUzBy",
        "outputId": "b84d40b5-bf74-42b9-f814-0a26f11c63a3"
      },
      "execution_count": null,
      "outputs": [
        {
          "output_type": "stream",
          "name": "stdout",
          "text": [
            "Enter a number45\n",
            "Enter a number44\n",
            "True\n"
          ]
        }
      ]
    },
    {
      "cell_type": "markdown",
      "source": [
        "# string and conditional statements"
      ],
      "metadata": {
        "id": "eIdYcSq-R2DY"
      }
    },
    {
      "cell_type": "code",
      "source": [
        "# agr ham string ma once si zada sentence ko second line ma print kar wana chati ha tu ham ko escape sequence character ka used kar na hu ga\n",
        "#Exap.\n",
        "str1= \"this is a string.\\n we are creating it in python.\"\n",
        "print(str1)"
      ],
      "metadata": {
        "colab": {
          "base_uri": "https://localhost:8080/"
        },
        "id": "ZXk0oJAkRDTf",
        "outputId": "ca91c92f-f156-4091-ef42-b6cc2a5861ac"
      },
      "execution_count": null,
      "outputs": [
        {
          "output_type": "stream",
          "name": "stdout",
          "text": [
            "this is a string.\n",
            " we are creating it in python.\n"
          ]
        }
      ]
    },
    {
      "cell_type": "code",
      "source": [
        "# if used \\t create sapace between two sentence.\n",
        "str1= \"this is a string.\\t we are creating it in python.\"\n",
        "print(str1)"
      ],
      "metadata": {
        "colab": {
          "base_uri": "https://localhost:8080/"
        },
        "id": "Fmlp7m-ITZi4",
        "outputId": "6ec83a6e-40bf-4f70-b348-f05c8fee3aa2"
      },
      "execution_count": null,
      "outputs": [
        {
          "output_type": "stream",
          "name": "stdout",
          "text": [
            "this is a string.\t we are creating it in python.\n"
          ]
        }
      ]
    },
    {
      "cell_type": "markdown",
      "source": [
        "# Basic operationof string"
      ],
      "metadata": {
        "id": "FqqYBap-UDu_"
      }
    },
    {
      "cell_type": "code",
      "source": [
        "#basic operation of string is two\n",
        "#1. concatenation mean  two string ko jurdna.Exap \"hassan\"+\"raza\" anser is hassanraza.\n",
        "#2. is length of string. can find length\n",
        "str1= \"Hassan\"\n",
        "print(len1)\n",
        "str2= \"akram\"\n",
        "print(len1 + len2)\n"
      ],
      "metadata": {
        "colab": {
          "base_uri": "https://localhost:8080/",
          "height": 211
        },
        "id": "MsgM6PywUO1T",
        "outputId": "0fa4433c-5749-403d-f5bc-21e7454ff3d9"
      },
      "execution_count": null,
      "outputs": [
        {
          "output_type": "error",
          "ename": "NameError",
          "evalue": "name 'len1' is not defined",
          "traceback": [
            "\u001b[0;31m---------------------------------------------------------------------------\u001b[0m",
            "\u001b[0;31mNameError\u001b[0m                                 Traceback (most recent call last)",
            "\u001b[0;32m/tmp/ipython-input-25-587296196.py\u001b[0m in \u001b[0;36m<cell line: 0>\u001b[0;34m()\u001b[0m\n\u001b[1;32m      3\u001b[0m \u001b[0;31m#2. is length of string. can find length\u001b[0m\u001b[0;34m\u001b[0m\u001b[0;34m\u001b[0m\u001b[0m\n\u001b[1;32m      4\u001b[0m \u001b[0mstr1\u001b[0m\u001b[0;34m=\u001b[0m \u001b[0;34m\"Hassan\"\u001b[0m\u001b[0;34m\u001b[0m\u001b[0;34m\u001b[0m\u001b[0m\n\u001b[0;32m----> 5\u001b[0;31m \u001b[0mprint\u001b[0m\u001b[0;34m(\u001b[0m\u001b[0mlen1\u001b[0m\u001b[0;34m)\u001b[0m\u001b[0;34m\u001b[0m\u001b[0;34m\u001b[0m\u001b[0m\n\u001b[0m\u001b[1;32m      6\u001b[0m \u001b[0mstr2\u001b[0m\u001b[0;34m=\u001b[0m \u001b[0;34m\"akram\"\u001b[0m\u001b[0;34m\u001b[0m\u001b[0;34m\u001b[0m\u001b[0m\n\u001b[1;32m      7\u001b[0m \u001b[0mprint\u001b[0m\u001b[0;34m(\u001b[0m\u001b[0mlen1\u001b[0m \u001b[0;34m+\u001b[0m \u001b[0mlen2\u001b[0m\u001b[0;34m)\u001b[0m\u001b[0;34m\u001b[0m\u001b[0;34m\u001b[0m\u001b[0m\n",
            "\u001b[0;31mNameError\u001b[0m: name 'len1' is not defined"
          ]
        }
      ]
    },
    {
      "cell_type": "code",
      "source": [
        "#second type is length(str) means can find length of object Exampl hassan is variable and length is 6.\n",
        "str1= \"Hassan\"\n",
        "len1= len(str1)\n",
        "str2= \"akram\"\n",
        "len2= len(str2)\n",
        "final_str =str1 + \" \" + str2\n",
        "print(final_str)\n",
        "print(len(final_str))\n"
      ],
      "metadata": {
        "id": "zCBTbGGfnFrI"
      },
      "execution_count": null,
      "outputs": []
    },
    {
      "cell_type": "markdown",
      "source": [
        "# what is Indexing? and what is used in string of variable?"
      ],
      "metadata": {
        "id": "yP1t9E73tth9"
      }
    },
    {
      "cell_type": "code",
      "source": [
        "# indexing mean given value provaid the number .\n",
        "#Exampl. hassan( the index in word hassan start 012345)shown 0 value of H in name of hassan in python.\n",
        "str1 =\"Hassan\"\n",
        "str2= \"Raza\"\n",
        "print(len(str1 + \" \"+ str2))\n",
        "str3 = \" hassan raza\"\n",
        "print(str3[6])\n"
      ],
      "metadata": {
        "id": "o9CGToFZts-V"
      },
      "execution_count": null,
      "outputs": []
    },
    {
      "cell_type": "markdown",
      "source": [
        "# What is slicing? and  what is used  slicing in python?"
      ],
      "metadata": {
        "id": "t7H7kV3dy4JO"
      }
    },
    {
      "cell_type": "code",
      "source": [
        "\n",
        "# slicing means Accessing parts of a string_at\n",
        "# # formula. str[starting_idx:ending_idx]# inding idx is not included.\n",
        "# str = \"Hassan Raza\"\n",
        "# when used str[1:4] anser is ass\n",
        "str = \"hassan raza\"\n",
        "print(str[0:11])\n",
        "print(str[:4])#[0:4] consider python same.\n",
        "print(str[0:4])"
      ],
      "metadata": {
        "id": "y_-lqRV9zP5I"
      },
      "execution_count": null,
      "outputs": []
    },
    {
      "cell_type": "code",
      "source": [],
      "metadata": {
        "id": "DjWPsnFTp2ST"
      },
      "execution_count": null,
      "outputs": []
    },
    {
      "cell_type": "markdown",
      "source": [
        "# Negative index"
      ],
      "metadata": {
        "id": "o_07uQvD2FHB"
      }
    },
    {
      "cell_type": "code",
      "source": [
        "# Negative index mean if variable is hassan and oposit of hassan is nassah this index in - form like -1,-2,-3,-4,-5.( nassah)\n",
        "str = \"hassan\"\n",
        "print(str[-3:-1])# ending idx is not inclued.\n",
        "print(str[::-1])"
      ],
      "metadata": {
        "id": "AE0gJmAg2Drm"
      },
      "execution_count": null,
      "outputs": []
    },
    {
      "cell_type": "markdown",
      "source": [],
      "metadata": {
        "id": "MIG8lZcWGsq1"
      }
    },
    {
      "cell_type": "markdown",
      "source": [
        "# String Functions"
      ],
      "metadata": {
        "id": "2UuBQ48i547H"
      }
    },
    {
      "cell_type": "code",
      "source": [
        "# str = \" lam a coder.\"\n",
        "# 1. str.endswith(\"er.\") if we chack the variable is end, put the end value of variable.Anser is true or false\n",
        "# 2. str.capitalize() mean capitalize 1st char.\n",
        "# 3. str.replace(old,new) replace all occurences(old value ko repace karna new value)\n",
        "# 4.str.find(word) can find what number of same word iss ma ham aik word kainavi num pr ha malumkar sak ti ha\n",
        "# 5.str.coun(\"am\")count the string value of variable(iss ma aik word kaitni bar aya ha)\n",
        "#Example 1.\n",
        "str = \"i am studying python from apnacollege\"\n",
        "print(str.endswith(\"ege\"))\n",
        "print(str.endswith(\"pyt\"))"
      ],
      "metadata": {
        "id": "kWwjWH7k6JgA"
      },
      "execution_count": null,
      "outputs": []
    },
    {
      "cell_type": "code",
      "source": [
        "#Example 2. first word ko capital kardinprint(str.endswith(\"ege\"))\n",
        "str = \"I am studying python from apnacollege\"\n",
        "print(str.capitalize())\n",
        "print(str)\n",
        "\n"
      ],
      "metadata": {
        "id": "xHV-KrAk-r93"
      },
      "execution_count": null,
      "outputs": []
    },
    {
      "cell_type": "code",
      "source": [
        "#Example 3.\n",
        "str = \"i am studying python from apnacollege\"\n",
        "print(str. replace(\"o\", \"a\"))\n",
        "print(str. replace(\"a\", \"o\"))"
      ],
      "metadata": {
        "id": "EBKj_HgTAMTa"
      },
      "execution_count": null,
      "outputs": []
    },
    {
      "cell_type": "code",
      "source": [
        "#Example 4.\n",
        "str = \"i am studying python from apnacollege\"\n",
        "print(str.find(\"python\"))\n",
        "print(str.find(\"\"))"
      ],
      "metadata": {
        "id": "PXfVZFIYBnLl"
      },
      "execution_count": null,
      "outputs": []
    },
    {
      "cell_type": "code",
      "source": [
        "#Example 5.\n",
        "\n",
        "str = \"i am from studying python from apnacollege\"\n",
        "print(str. count(\"from\"))\n",
        "print(str. count(\"a\"))\n"
      ],
      "metadata": {
        "id": "lhCz3rX6DE5u"
      },
      "execution_count": null,
      "outputs": []
    },
    {
      "cell_type": "markdown",
      "source": [
        "# lets Practice"
      ],
      "metadata": {
        "id": "MO7-L2psEF0r"
      }
    },
    {
      "cell_type": "markdown",
      "source": [
        "Write a program to input user first name and print its length"
      ],
      "metadata": {
        "id": "DhE6mmgTFs1W"
      }
    },
    {
      "cell_type": "code",
      "source": [
        "#name=input(\"Enter  first number\")\n",
        "name=\"hassan\"\n",
        "abc= len(name)\n",
        "print(abc)"
      ],
      "metadata": {
        "id": "91Y1veCvOTGV"
      },
      "execution_count": null,
      "outputs": []
    },
    {
      "cell_type": "markdown",
      "source": [
        "# Write a program to find the occurrence of S in a string.\n"
      ],
      "metadata": {
        "id": "jDbu13NlQiIS"
      }
    },
    {
      "cell_type": "code",
      "source": [
        "\n",
        "# occurrence mean count. katni bar iya ha\n",
        "str1= \"pakistan is nice conturi ss\"\n",
        "print(str1.count(\"s\"))\n",
        "str1=\"hi, is the s symbol s\"\n",
        "print(str1.count(\"i\"))"
      ],
      "metadata": {
        "id": "b8-8b-UXRAaO"
      },
      "execution_count": null,
      "outputs": []
    },
    {
      "cell_type": "markdown",
      "source": [
        "# Condition Statement"
      ],
      "metadata": {
        "id": "nDn1ryzZTHpC"
      }
    },
    {
      "cell_type": "code",
      "source": [
        "\n",
        "# if-elif-else(syntax)\n",
        "age = 18\n",
        "if(age >=18):\n",
        "  print(\"can vote & apply for licencse\")#indentation mean proper sapece in start.\n",
        "elif (age<= 18):\n",
        "  print(\"can not vote & apply for licencse\")\n",
        "\n"
      ],
      "metadata": {
        "id": "rWkabm4LTvaC"
      },
      "execution_count": null,
      "outputs": []
    },
    {
      "cell_type": "code",
      "source": [
        "marks = 81\n",
        "if marks >= 90:\n",
        "  grade=(\"A\")\n",
        "elif marks >=80 and marks <90:\n",
        "  grade=(\"B\")\n",
        "elif marks >=70 and marks < 80 :\n",
        "  grade=(\"C\")\n",
        "else:\n",
        "  grade=(\"Fail\")\n",
        "print(\"Grade of the students_:\", marks,grade)"
      ],
      "metadata": {
        "id": "yiVwkI6sZ6HR"
      },
      "execution_count": null,
      "outputs": []
    },
    {
      "cell_type": "markdown",
      "source": [
        "#nesting"
      ],
      "metadata": {
        "id": "0S22QCxOju-c"
      }
    },
    {
      "cell_type": "code",
      "source": [
        "#nesting\n",
        "age= 18\n",
        "if(age>= 18):\n",
        "  if(age >= 80):\n",
        "    print(\"cannot drive\")\n",
        "  else:\n",
        "    print(\"can drive\")\n",
        "else:\n",
        "  print(\"cannot drive\")"
      ],
      "metadata": {
        "id": "i0Up1ojF4rVB"
      },
      "execution_count": null,
      "outputs": []
    },
    {
      "cell_type": "code",
      "source": [
        "age= 79\n",
        "if ( age >= 18):\n",
        "  print(\"can drive\")\n",
        "else:\n",
        "  print(\"cannot drive\")\n",
        "if ( age >= 80):\n",
        "  print(\"not permition\")\n",
        "else :\n",
        "  print(\"permition\")\n"
      ],
      "metadata": {
        "id": "sEV1_VjU9PzW"
      },
      "execution_count": null,
      "outputs": []
    },
    {
      "cell_type": "code",
      "source": [
        "age= 88\n",
        "if ( age >= 18):\n",
        "  print(\"can drive\")\n",
        "else:\n",
        "  print(\"cannot drive\")\n",
        "if ( age >= 80):\n",
        "  print(\"not permition\")\n",
        "else:\n",
        "  print(\"permition\")\n"
      ],
      "metadata": {
        "id": "OOG46N68-afg"
      },
      "execution_count": null,
      "outputs": []
    },
    {
      "cell_type": "code",
      "source": [
        "light =\"green\"\n",
        "\n",
        "if(light==\"red\"):\n",
        "  print(\"stop\")\n",
        "elif(light==\"green\"):\n",
        "  print(\"go\")\n",
        "elif( light==\"yellow\"):\n",
        "  print(\"look\")\n",
        "else :\n",
        "  print(\"light is broken\")# if colour is change then print else.\n",
        "\n",
        "\n"
      ],
      "metadata": {
        "id": "_RW4KoJl-aVT"
      },
      "execution_count": null,
      "outputs": []
    },
    {
      "cell_type": "code",
      "source": [
        "a= 11\n",
        "if(a==0):\n",
        "  print(\"Even\")\n",
        "else:\n",
        "  print(\"odd\")"
      ],
      "metadata": {
        "id": "X9F2KAKSVtK1"
      },
      "execution_count": null,
      "outputs": []
    },
    {
      "cell_type": "markdown",
      "source": [
        "# Write a program to find greatest of 3 number entered by the user."
      ],
      "metadata": {
        "id": "xYFEonUbXANo"
      }
    },
    {
      "cell_type": "code",
      "source": [
        "a=int(input(\"Enter first number:\"))\n",
        "b=int(input(\"Enter second number:\"))\n",
        "c=int(input(\"Enter third number:\"))\n",
        "if(a >=b and a >= c):\n",
        "  print(\"first number is largest\",a)\n",
        "elif(b >= c):\n",
        "  print(\"second number is largest\",b)\n",
        "else:\n",
        "  print(\"third is largest\",c)\n"
      ],
      "metadata": {
        "id": "kj8p0rfrXQYQ"
      },
      "execution_count": null,
      "outputs": []
    },
    {
      "cell_type": "markdown",
      "source": [
        "WAP to check if anumber is a multiple of 7 or not."
      ],
      "metadata": {
        "id": "7uh2X5D8Zad4"
      }
    },
    {
      "cell_type": "code",
      "source": [
        "# x%7==0 is called multiple of 7\n",
        "x=int(input(\"Enter number:\"))\n",
        "if(x % 7 == 0):\n",
        "  print(\"multiple of 7\")\n",
        "else:\n",
        "  print(\"not a multiple\")\n"
      ],
      "metadata": {
        "id": "bdaa595xZvIQ"
      },
      "execution_count": null,
      "outputs": []
    },
    {
      "cell_type": "markdown",
      "source": [
        "# what is lists & tuples"
      ],
      "metadata": {
        "id": "-pgj37ANUhia"
      }
    },
    {
      "cell_type": "code",
      "source": [
        "# A built-in data type that stores set of value.\n",
        "#it can store elements of different type(int,float,string,etc )Examp student = [\"hassan,85\",65.6] we can store in single lists.\n",
        "# list mean many  variable write in horizontal line .Example\n",
        "marks = [94.5,87.5,95.4, 66.9,45.1]\n",
        "print(marks)\n",
        "print(type(marks))\n",
        "# list work same index mean can find ki ya katinavi number pr ha.\n",
        "print(marks[0])\n",
        "print(marks[1])\n",
        "#  we can also be find length of list\n",
        "print(len(marks))"
      ],
      "metadata": {
        "id": "ClMOum7AUri7"
      },
      "execution_count": null,
      "outputs": []
    },
    {
      "cell_type": "markdown",
      "source": [
        "# Different between String and list in python"
      ],
      "metadata": {
        "id": "396WeY0faN7N"
      }
    },
    {
      "cell_type": "code",
      "source": [
        "#string is immutable(mean after executing cannot change the variable)\n",
        "#lists  is mutable(mean after executing can change the variable)\n",
        "#Exaple 1 consider:\n",
        "# a = \"hello\"\n",
        "# print(a[0])\n",
        "# a[0]= \"y\"is method ssi clera huta ha kai string ko koi or value dai kar change nahi kiya gasikta\n",
        "student = [\"hassan\",76.8, 78, \"faisalabad\"]\n",
        "print(student[0])\n",
        "student[0]=\"ali\"\n",
        "print(student)# so clear lists can be  exeute and change variable."
      ],
      "metadata": {
        "id": "5K_dhAZdaNfP"
      },
      "execution_count": null,
      "outputs": []
    },
    {
      "cell_type": "markdown",
      "source": [
        "# List Slicing"
      ],
      "metadata": {
        "id": "bd5dV_OvfdxO"
      }
    },
    {
      "cell_type": "code",
      "source": [
        "#similar to String slicing.\n",
        "# list_name[starting_idx:ending_idx] ending idx is not included\n",
        "marks = [87,84,96,34,65]\n",
        "print(marks[1:4])\n",
        "print(marks[:4])\n",
        "print(marks[1:])\n",
        "print(marks[::-1])\n",
        "print(marks[-3:-1])"
      ],
      "metadata": {
        "id": "elfT8eDWcB9O"
      },
      "execution_count": null,
      "outputs": []
    },
    {
      "cell_type": "markdown",
      "source": [
        "# Lists Method"
      ],
      "metadata": {
        "id": "8EfXk-S-Ryn1"
      }
    },
    {
      "cell_type": "code",
      "source": [
        "# list=[3,,2,1]\n",
        "1#list.append(4)add one element at end Anser is [3,2,1,4](append mean last ma add kar na)\n",
        "2#list.sort() ascendung order mean chuti si badiki taraf jana [1,2,3]\n",
        "3#list.(reverse=ture)sorts in descending order [3,2,1]( badi si chuta)\n",
        "4#list.reverseslist [1,2,3]\n",
        "5#list.insert(idx,el)\n",
        "6#list.remove(1)\n",
        "7#list.pop(idx)mean particular point pr jakar number ko change kar.\n",
        "#Exam 1\n",
        "list = [3,2,1]\n",
        "list.append(4)\n",
        "print(list)"
      ],
      "metadata": {
        "id": "clIAAbcjmf43"
      },
      "execution_count": null,
      "outputs": []
    },
    {
      "cell_type": "code",
      "source": [
        "#Example\n",
        "list1 =[3,4,2,1]\n",
        "list2=[\"a\",\"g\",\"b\",\"d\",\"c\"]\n",
        "print(list1.sort())\n",
        "print(list2.sort())\n",
        "print(list1)\n",
        "print(list2)"
      ],
      "metadata": {
        "colab": {
          "base_uri": "https://localhost:8080/"
        },
        "id": "LK49KuD6vUKH",
        "outputId": "c13fab61-9792-48db-fe05-3e1c13258933"
      },
      "execution_count": null,
      "outputs": [
        {
          "output_type": "stream",
          "name": "stdout",
          "text": [
            "None\n",
            "None\n",
            "[1, 2, 3, 4]\n",
            "['a', 'b', 'c', 'd', 'g']\n"
          ]
        }
      ]
    },
    {
      "cell_type": "code",
      "source": [
        "list1 = [\"banana\",\"apple\", \"goat\",\"cat\"]\n",
        "print(list1.sort())\n",
        "print(list1)\n"
      ],
      "metadata": {
        "colab": {
          "base_uri": "https://localhost:8080/"
        },
        "id": "6lYpGB6B0G9g",
        "outputId": "996afd7b-692a-4343-b1f2-7e1c860638ce"
      },
      "execution_count": null,
      "outputs": [
        {
          "output_type": "stream",
          "name": "stdout",
          "text": [
            "None\n",
            "['apple', 'banana', 'cat', 'goat']\n"
          ]
        }
      ]
    },
    {
      "cell_type": "code",
      "source": [
        "list = [\"banana\",\"apple\", \"goat\",\"cat\"]\n",
        "print(list.sort(reverse=True))\n",
        "print(list)"
      ],
      "metadata": {
        "colab": {
          "base_uri": "https://localhost:8080/"
        },
        "id": "yJq-_pmp49WZ",
        "outputId": "b91a614f-bf20-47fd-d4af-401130b0fa27"
      },
      "execution_count": null,
      "outputs": [
        {
          "output_type": "stream",
          "name": "stdout",
          "text": [
            "None\n",
            "['goat', 'cat', 'banana', 'apple']\n"
          ]
        }
      ]
    },
    {
      "cell_type": "code",
      "source": [
        "4#list.reverseslist\n",
        "list = ['a','b','c','d','e','f']\n",
        "list.reverse()\n",
        "print(list)"
      ],
      "metadata": {
        "colab": {
          "base_uri": "https://localhost:8080/"
        },
        "id": "hGfLcSFm7PHx",
        "outputId": "b8ac17fb-7a68-43d2-e057-981e1826ae8d"
      },
      "execution_count": null,
      "outputs": [
        {
          "output_type": "stream",
          "name": "stdout",
          "text": [
            "['f', 'e', 'd', 'c', 'b', 'a']\n"
          ]
        }
      ]
    },
    {
      "cell_type": "code",
      "source": [
        "5#list.insert(idx,el) mean sepaicfic point ma change kar na (idx) mean kasi number ko change kar na ha(ei)mean kasi element ko put kar na ha change ki jaga.\n",
        "list = [3,5,7,]\n",
        "list.insert(2,4)\n",
        "print(list)\n",
        "\n"
      ],
      "metadata": {
        "colab": {
          "base_uri": "https://localhost:8080/"
        },
        "id": "0FvvDUgLe0pp",
        "outputId": "d1a3f5c1-b331-4526-c80a-da21f2376093"
      },
      "execution_count": null,
      "outputs": [
        {
          "output_type": "stream",
          "name": "stdout",
          "text": [
            "[3, 5, 4, 7]\n"
          ]
        }
      ]
    },
    {
      "cell_type": "code",
      "source": [
        "6#list.remove(1) # i googal colab jasi number ko be change kar na ha iss ko write ka di\n",
        "list = [8,2,1,8]\n",
        "list.remove(1)\n",
        "print(list)"
      ],
      "metadata": {
        "colab": {
          "base_uri": "https://localhost:8080/"
        },
        "id": "0hz7_gnbiGb5",
        "outputId": "ce876aaa-afbb-4f3f-fde4-7fe3296fbb99"
      },
      "execution_count": null,
      "outputs": [
        {
          "output_type": "stream",
          "name": "stdout",
          "text": [
            "[8, 2, 8]\n"
          ]
        }
      ]
    },
    {
      "cell_type": "code",
      "source": [
        "7#list.pop(idx)mean particular point pr jakar number ko change kar\n",
        "list = [8,2,1,8]#(0123)\n",
        "list.pop(0)# pop ma first number(0)si start huta ha\n",
        "list.pop(1)\n",
        "print(list)\n"
      ],
      "metadata": {
        "colab": {
          "base_uri": "https://localhost:8080/"
        },
        "id": "Vpf0iDjljuBX",
        "outputId": "0a4f449e-98ee-4129-8c5e-769e12fcddd5"
      },
      "execution_count": null,
      "outputs": [
        {
          "output_type": "stream",
          "name": "stdout",
          "text": [
            "[2, 8]\n"
          ]
        }
      ]
    },
    {
      "cell_type": "markdown",
      "source": [
        "# Tuples in python"
      ],
      "metadata": {
        "id": "9R1INCp5o_QK"
      }
    },
    {
      "cell_type": "code",
      "source": [
        "# A built in data type that lets us create immutable(means cannot change value)sequence value\n",
        "# in tuple used barcket ().\n",
        "tup =(4,5,2,7,1)\n",
        "print(tup[0])\n",
        "print(tup[1])\n",
        "print(type(tup))\n",
        "print(tup[1:3])\n",
        "print(tup[-4:-1])\n",
        "\n",
        "tup =() # impati mean zero data.\n",
        "print( tup)\n",
        "print(type(tup))\n",
        "\n",
        "#singal element ko ham comam(.) kai satha saparat kari gai.\n",
        "tup = (1,)# is good mothed crate single tuple\n",
        "print( tup)\n",
        "print(type(tup))\n"
      ],
      "metadata": {
        "colab": {
          "base_uri": "https://localhost:8080/"
        },
        "id": "DQtzQSe0pJNh",
        "outputId": "7a1b2bcb-6cbe-4329-ec74-28b0b22a82d7"
      },
      "execution_count": null,
      "outputs": [
        {
          "output_type": "stream",
          "name": "stdout",
          "text": [
            "4\n",
            "5\n",
            "<class 'tuple'>\n",
            "(5, 2)\n",
            "(5, 2, 7)\n",
            "()\n",
            "<class 'tuple'>\n",
            "(1,)\n",
            "<class 'tuple'>\n"
          ]
        }
      ]
    },
    {
      "cell_type": "markdown",
      "source": [
        "# Tuple Mothped"
      ],
      "metadata": {
        "id": "2o7jq63Nwi42"
      }
    },
    {
      "cell_type": "code",
      "source": [
        "# two mothed of  tuple Example .[6,2,3,3,4,5] this value indx is [0,1,2,3,4,5]\n",
        "1#. tup.idx mean( iss ma element ka idx find kai ya jaya ha)\n",
        "2#. tup. count mean(iss ka matlab ya hi kai tuple kaitni bara aya ha)\n",
        "tup =(4,5,2,7,1)\n",
        "print(tup.index(7))\n",
        "\n",
        "tup = (3,3,3,4,5,2,6,7,4)\n",
        "print(tup.count(4))# 4 is element"
      ],
      "metadata": {
        "colab": {
          "base_uri": "https://localhost:8080/"
        },
        "id": "p6Z3yECIwqU_",
        "outputId": "28a484b1-e2d9-47ee-8427-3bc2b270cc1c"
      },
      "execution_count": null,
      "outputs": [
        {
          "output_type": "stream",
          "name": "stdout",
          "text": [
            "3\n",
            "2\n"
          ]
        }
      ]
    },
    {
      "cell_type": "code",
      "source": [
        "a = input(\"Enter first movies\")\n",
        "b = input(\"Enter second movies\")\n",
        "c = input(\"Enter third movies\")\n",
        "list =[a, b ,c]\n",
        "print(list)"
      ],
      "metadata": {
        "colab": {
          "base_uri": "https://localhost:8080/"
        },
        "id": "6r90TyrmzYxN",
        "outputId": "f0c05d31-6c57-4fa9-da85-16a3b322baf4"
      },
      "execution_count": null,
      "outputs": [
        {
          "output_type": "stream",
          "name": "stdout",
          "text": [
            "Enter first movies3 idioat\n",
            "Enter second moviespakistan zanda bad\n",
            "Enter third moviespunjab nai gaio gi\n",
            "['3 idioat', 'pakistan zanda bad', 'punjab nai gaio gi']\n"
          ]
        }
      ]
    },
    {
      "cell_type": "code",
      "source": [
        "b"
      ],
      "metadata": {
        "id": "2NngTf4Y2Wwl"
      },
      "execution_count": null,
      "outputs": []
    },
    {
      "cell_type": "code",
      "source": [
        "movies = []\n",
        "mov1 = input(\"Enter first movie \")\n",
        "mov2 = input(\"Enter second movie \")\n",
        "mov3 = input(\"Enter third movie \")\n",
        "list.append(mov1)\n",
        "list.append(mov2)\n",
        "list.append(mov3)"
      ],
      "metadata": {
        "colab": {
          "base_uri": "https://localhost:8080/"
        },
        "id": "uD-SxuDf1cE7",
        "outputId": "e7f1054c-8ec2-4bdf-d118-b304eecffe1d"
      },
      "execution_count": null,
      "outputs": [
        {
          "name": "stdout",
          "output_type": "stream",
          "text": [
            "Enter first movie 804\n",
            "Enter second movie punjab\n",
            "Enter third movie titanic\n"
          ]
        }
      ]
    },
    {
      "cell_type": "code",
      "source": [
        "from __future__ import print_function\n",
        "# Palidram mean agai pichia si same hu mean(opposit(reverse) karni pr bi word same hu)\n",
        "#12321 agr ham is ko change kar tu jawab 12321 same hi huga.\n",
        "# cope() in list mean given varible cerate doubletion.\n",
        "list1 = [1,2,1]\n",
        "copy_list1 =list1.copy()\n",
        "copy_list1.reverse()\n",
        "if (copy_list1==list1):\n",
        "  print(\"palindrom\")\n",
        "else:\n",
        "  print(\"not palindrom\")"
      ],
      "metadata": {
        "id": "aCj-MoP93o-B",
        "colab": {
          "base_uri": "https://localhost:8080/"
        },
        "outputId": "13921c69-7d77-4eb1-8836-959d68813655"
      },
      "execution_count": null,
      "outputs": [
        {
          "output_type": "stream",
          "name": "stdout",
          "text": [
            "palindrom\n"
          ]
        }
      ]
    },
    {
      "cell_type": "code",
      "source": [
        "list2 = [1,2,3]\n",
        "\n",
        "\n",
        "copy_list2 =list1.copy()\n",
        "copy_list2.reverse()\n",
        "if (copy_list2==list2):\n",
        "  print(\"palindrom\")\n",
        "else:\n",
        "  print(\"not palindrom\")"
      ],
      "metadata": {
        "colab": {
          "base_uri": "https://localhost:8080/"
        },
        "id": "-tfUST-iGuAU",
        "outputId": "b0312739-6508-4cbc-8b3e-c0e995aa8287"
      },
      "execution_count": null,
      "outputs": [
        {
          "output_type": "stream",
          "name": "stdout",
          "text": [
            "not palindrom\n"
          ]
        }
      ]
    },
    {
      "cell_type": "code",
      "source": [
        "list2 = [\"m\",\"a\",\"a\",\"m\"]\n",
        "copy_list2 =list1.copy()\n",
        "copy_list2.reverse()\n",
        "if (copy_list2==list2):\n",
        "  print(\"palindrom\")\n",
        "else:\n",
        "  print(\"not palindrom\")"
      ],
      "metadata": {
        "colab": {
          "base_uri": "https://localhost:8080/"
        },
        "id": "pT2K4NB3G7-B",
        "outputId": "3744e349-0e83-4736-f168-4362cd8571a0"
      },
      "execution_count": null,
      "outputs": [
        {
          "output_type": "stream",
          "name": "stdout",
          "text": [
            "not palindrom\n"
          ]
        }
      ]
    },
    {
      "cell_type": "markdown",
      "source": [
        "WAP to count number of student with the \"A\" grade in the following tuple\n",
        "[\"c\",\"d\",\"a\",\"a'\",\"b\",\"b\",\"a\"]"
      ],
      "metadata": {
        "id": "FJnuaTWZHpem"
      }
    },
    {
      "cell_type": "code",
      "source": [
        "   grade = (\"c\",\"d\",\"a\",\"a\",\"b\",\"b\",\"a\")\n",
        "   print(grade.count(\"a\"))"
      ],
      "metadata": {
        "colab": {
          "base_uri": "https://localhost:8080/"
        },
        "id": "8JbN3KbIIwIS",
        "outputId": "4cbbd4f2-39c0-4b90-dba7-9f864862ca99"
      },
      "execution_count": null,
      "outputs": [
        {
          "output_type": "stream",
          "name": "stdout",
          "text": [
            "3\n"
          ]
        }
      ]
    },
    {
      "cell_type": "code",
      "source": [
        "a= (\"hassan\", \"ali\", \"Ahamd\")\n",
        "print(a.count(\"hassan\"))"
      ],
      "metadata": {
        "colab": {
          "base_uri": "https://localhost:8080/"
        },
        "id": "gA3kz9NwJlLw",
        "outputId": "fb8d955b-7add-498a-8f02-b1ce24fdbce5"
      },
      "execution_count": null,
      "outputs": [
        {
          "output_type": "stream",
          "name": "stdout",
          "text": [
            "1\n"
          ]
        }
      ]
    }
  ]
}